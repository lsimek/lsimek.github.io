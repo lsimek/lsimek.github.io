{
 "cells": [
  {
   "cell_type": "markdown",
   "id": "145fd895-97fa-4bc3-8d49-bbe003f43d67",
   "metadata": {},
   "source": [
    "<font size=\"6\"> <center>Quick Guide to Scraping the Dark Web</center>\n",
    "<font size=\"4\"> <center>tinjano@github, tinjano.github.io</center> </font>"
   ]
  },
  {
   "cell_type": "markdown",
   "id": "5111b6b6-e582-4214-a6a9-ad4ffe1374d2",
   "metadata": {},
   "source": [
    "# Introduction\n",
    "Like the clear web, we may also wish to scrape the dark web for data, albeit usually different kinds and for different purposes. While clear web HTMLs can be accessed in user-friendly ways via known Python libraries, the dark web is part of the Tor network and any communication with it requires a bit more work.\n",
    "\n",
    "Obviously, content scraped from the dark web may be disturbing or illegal and discretion should be exercised by the reader. This guide is simply dedicated to providing a simple way to access the HTML content of .onion pages. These pages may also be sporadically unavailable and not much can be done about that. For more complex interaction with the Tor network or services, additional specialized libraries may be used."
   ]
  },
  {
   "cell_type": "markdown",
   "id": "db76e873-90eb-42f5-9ffe-b3093bd21327",
   "metadata": {},
   "source": [
    "# Starting the Tor service\n",
    "The Tor service is the daemon that allows us to route traffic through the Tor network. Initiating a session can be done in a very simple way &ndash; by starting the [Tor browser](https://www.torproject.org/download/tor/)."
   ]
  },
  {
   "cell_type": "markdown",
   "id": "7cd12581-c612-40d3-9690-706cb53ca5ae",
   "metadata": {},
   "source": [
    "# Identifying the Tor ports\n",
    "Typically, the Tor browser will use port 9150 as the SOCKS port to rout traffic. A 'standalone' service may use port 9050, and 9051 or 9151 would be used as control ports. If there are issues, tools like `netstat` can be used."
   ]
  },
  {
   "cell_type": "code",
   "execution_count": 55,
   "id": "9711aaa3-397b-48c6-b9cc-02d1beddb3b9",
   "metadata": {},
   "outputs": [
    {
     "name": "stdout",
     "output_type": "stream",
     "text": [
      "tcp        0      0 127.0.0.1:9150          0.0.0.0:*               LISTEN     \n"
     ]
    }
   ],
   "source": [
    "!netstat -tuln | grep 9150"
   ]
  },
  {
   "cell_type": "markdown",
   "id": "47090c24-06f9-4c79-840b-d8e12b366d02",
   "metadata": {},
   "source": [
    "# Setting up Proxies\n",
    "We can make requests to .onion sites with our usual libraries, but we will need to set up SOCKS proxies. We will consider requests and HTTPX. The former has a flaw that may come to light with .onion addresses with a base URL longer than 64 characters, as the base socks module cannot resolve those. HTTPX does not rely on the socks module, and also has additional capabilities such as asynchronous requests.\n",
    "\n",
    "The syntax differs slightly for the two options."
   ]
  },
  {
   "cell_type": "code",
   "execution_count": 2,
   "id": "70cb33d5-46ef-41aa-a61c-dd45ab26abc9",
   "metadata": {},
   "outputs": [],
   "source": [
    "proxies_requests = {\n",
    "    'http': 'socks5h://localhost:9150',\n",
    "    'https': 'socks5h://localhost:9150'\n",
    "}\n",
    "\n",
    "proxies_httpx = {\n",
    "    'http://': 'socks5://localhost:9150',\n",
    "    'https://': 'socks5://localhost:9150'\n",
    "}"
   ]
  },
  {
   "cell_type": "markdown",
   "id": "7141589b-46a9-41ec-9768-8ce5d1ab0bda",
   "metadata": {},
   "source": [
    "# Making requests\n",
    "This is likely all that it takes. Let us try to send a request to the CIA's .onion website."
   ]
  },
  {
   "cell_type": "code",
   "execution_count": 3,
   "id": "86671a09-3653-447b-9d23-bfe27a956a55",
   "metadata": {},
   "outputs": [],
   "source": [
    "import requests\n",
    "import httpx\n",
    "url = 'http://ciadotgov4sjwlzihbbgxnqg3xiyrg7so2r2o3lt5wz5ypk4sxyjstad.onion/'"
   ]
  },
  {
   "cell_type": "code",
   "execution_count": 4,
   "id": "2024e898-7fd3-48a7-8327-bca6fed709fc",
   "metadata": {},
   "outputs": [
    {
     "data": {
      "text/plain": [
       "{'Date': 'Mon, 18 Dec 2023 20:03:57 GMT', 'Content-Type': 'text/html', 'Transfer-Encoding': 'chunked', 'Connection': 'keep-alive', 'X-Akamai-Transformed': '9 270289 0 pmb=mNONE,1', 'Set-Cookie': '_session_=6156A598990E52B861B6AE606FDA9D19; path=/; domain=ciadotgov4sjwlzihbbgxnqg3xiyrg7so2r2o3lt5wz5ypk4sxyjstad.onion; secure; HttpOnly', 'ID': '+IqqZPK95qWWBNyt7oTfaYLjaw+z4ouDbVCyqld7vfBFIBEcssI11sq3aLqE7LBN', 'SESSION': 'ZgOOonym+B0EFefFXMSKK4plBsR/LbsRyB7i5Frwu4mXE451saQsLV5nRORZ7jqH8JeTA3pz7ij1f/3BoV2C7A=='}"
      ]
     },
     "execution_count": 4,
     "metadata": {},
     "output_type": "execute_result"
    }
   ],
   "source": [
    "requests.get(url, proxies=proxies_requests).headers"
   ]
  },
  {
   "cell_type": "code",
   "execution_count": 5,
   "id": "46029f41-e59e-492b-ab6f-3861383b2455",
   "metadata": {},
   "outputs": [
    {
     "data": {
      "text/plain": [
       "Headers({'date': 'Mon, 18 Dec 2023 20:04:06 GMT', 'content-type': 'text/html', 'transfer-encoding': 'chunked', 'connection': 'keep-alive', 'x-akamai-transformed': '9 270289 0 pmb=mNONE,1', 'set-cookie': '_session_=4D0513FCC09E64689016548129ED100C; path=/; domain=ciadotgov4sjwlzihbbgxnqg3xiyrg7so2r2o3lt5wz5ypk4sxyjstad.onion; secure; HttpOnly', 'id': 'Tk3WyVSBM4Bx+8vUe8wGRPYoJiJA2yPgn+zs6LGn7M76mykpTaoNVzFldLzrIQ5N', 'session': 'G0sLqN4ctIisuE4nfHfS8sbwmImDReSybHybhx9EJCFAFUFTzIvq/F7v0t2xOnF4/HIPWMg9ApPMANGc+Vp23A=='})"
      ]
     },
     "execution_count": 5,
     "metadata": {},
     "output_type": "execute_result"
    }
   ],
   "source": [
    "httpx.get(url, proxies=proxies_httpx).headers"
   ]
  },
  {
   "cell_type": "markdown",
   "id": "5a4bcce4-3281-48d8-9803-cda05489e591",
   "metadata": {},
   "source": [
    "# Resetting your identity\n",
    "Reseting your identity can be achieved directly through the command line, although some kind of authentication may be required. Here is an example using the control authentication cookie. We will fetch it with Python's `open`, though it may be also read with a terminal command. Following that, we may use specialized libraries or the terminal directly."
   ]
  },
  {
   "cell_type": "code",
   "execution_count": 79,
   "id": "129ca072-c679-4aef-934c-af4d549844ce",
   "metadata": {},
   "outputs": [
    {
     "data": {
      "text/plain": [
       "'9de55840fa1ca47c7fe7d9eddf4453ce1818cfad52c3cbbb0b89dd73820fe4cb'"
      ]
     },
     "execution_count": 79,
     "metadata": {},
     "output_type": "execute_result"
    }
   ],
   "source": [
    "with open('/home/tinjano/tor-browser/Browser/TorBrowser/Data/Tor/control_auth_cookie', 'rb') as file:\n",
    "    control_auth_cookie = file.read().hex()\n",
    "\n",
    "control_auth_cookie"
   ]
  },
  {
   "cell_type": "markdown",
   "id": "edf2bb90-04e0-404c-bfdd-935602769667",
   "metadata": {},
   "source": [
    "Alternatively, we can obtain it with the following command."
   ]
  },
  {
   "cell_type": "code",
   "execution_count": 56,
   "id": "b70bd2fe-5197-4c51-b628-d50578b15157",
   "metadata": {},
   "outputs": [
    {
     "name": "stdout",
     "output_type": "stream",
     "text": [
      "9de55840fa1ca47c7fe7d9eddf4453ce1818cfad52c3cbbb0b89dd73820f\n",
      "e4cb\n"
     ]
    }
   ],
   "source": [
    "!cat /home/tinjano/tor-browser/Browser/TorBrowser/Data/Tor/control_auth_cookie | xxd -p"
   ]
  },
  {
   "cell_type": "markdown",
   "id": "b27aae5e-ae96-4fae-8ee7-0b7bb66becc4",
   "metadata": {},
   "source": [
    "Now we can see information about the current circuits. Note that we are using control port 9151."
   ]
  },
  {
   "cell_type": "code",
   "execution_count": null,
   "id": "4a9afa9f-3cd4-4ec6-8577-313a67e87356",
   "metadata": {},
   "outputs": [],
   "source": [
    "!echo -e \"AUTHENTICATE {control_auth_cookie} \\nGETINFO circuit-status \\nQUIT\" | nc localhost 9151 "
   ]
  },
  {
   "cell_type": "markdown",
   "id": "493c683d-cf2f-46d1-ba39-6dc60f974d4b",
   "metadata": {},
   "source": [
    "To reset identity, we use the command `SIGNAL NEWNYM`. For all commands see [here](https://spec.torproject.org/control-spec/commands.html)."
   ]
  },
  {
   "cell_type": "code",
   "execution_count": 77,
   "id": "c1d8d891-9d2a-46df-b517-416421b8580b",
   "metadata": {},
   "outputs": [
    {
     "name": "stdout",
     "output_type": "stream",
     "text": [
      "250 OK\n",
      "250 OK\n",
      "250 closing connection\n"
     ]
    }
   ],
   "source": [
    "!echo -e \"AUTHENTICATE {control_auth_cookie} \\nSIGNAL NEWNYM \\nQUIT\" | nc localhost 9151 "
   ]
  },
  {
   "cell_type": "code",
   "execution_count": null,
   "id": "0d2b2ac1-a834-40be-82d4-bb4cf5c86ef7",
   "metadata": {},
   "outputs": [],
   "source": [
    "!echo -e \"AUTHENTICATE {control_auth_cookie} \\nGETINFO circuit-status \\nQUIT\" | nc localhost 9151 "
   ]
  }
 ],
 "metadata": {
  "kernelspec": {
   "display_name": "Conda Base Environment",
   "language": "python",
   "name": "conda-base"
  },
  "language_info": {
   "codemirror_mode": {
    "name": "ipython",
    "version": 3
   },
   "file_extension": ".py",
   "mimetype": "text/x-python",
   "name": "python",
   "nbconvert_exporter": "python",
   "pygments_lexer": "ipython3",
   "version": "3.11.5"
  }
 },
 "nbformat": 4,
 "nbformat_minor": 5
}
