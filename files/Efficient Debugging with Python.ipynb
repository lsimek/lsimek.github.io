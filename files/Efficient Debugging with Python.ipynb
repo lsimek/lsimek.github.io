{
 "cells": [
  {
   "cell_type": "markdown",
   "id": "49ce1943-e104-4c47-b6f9-d72036dabe4a",
   "metadata": {},
   "source": [
    "<font size=\"6\"> <center>Efficient Debugging with Python</center>\n",
    "<font size=\"4\"> <center>lsimek.github.io</center> </font>"
   ]
  },
  {
   "cell_type": "markdown",
   "id": "bc12325c-8331-41f5-b27a-dbb7758ad8a9",
   "metadata": {
    "jp-MarkdownHeadingCollapsed": true
   },
   "source": [
    "# Introduction\n",
    "Debugging will never be as glamorous and interesting as the 'meat' of software-related projects, but it is still an unavoidable part of the process. We have all been there &ndash; finishing our code relatively quickly before spending hours on discovering and removing needles in a haystack. There are better and worse ways to go about this, that in turn will take up less or more of your time. This notebook aims to showcase some more sophisticated and efficient ways of debugging."
   ]
  },
  {
   "cell_type": "markdown",
   "id": "258fbd8d-5f4a-4865-8b2d-308e4ffb73cb",
   "metadata": {},
   "source": [
    "# Preventative Measures\n",
    "The first way to avoid hours of debugging is to avoid making many mistakes in the first place. For example, one should be very clear on what they are doing before they start writing the respective code. Be clear about what you want, which algorithms you are using and, if need be, exactly how they function. This also goes for third-party tools like additional libraries. This will take up some time in the short run, but is ultimately preferrable to causing unexpected errors before spending a much longer time fidgeting with the details. Worse yet, it may turn out that the library cannot actually do what you wish or that the algorithm you envisioned is not completely correct.\n",
    "\n",
    "I recommend that you consult the documentation of third party tools that are new to you, especially if they are more niche. It will usually contain all you need to know, and may even warn you about some common pitfalls. This should be preferred over consulting AI chatbots as they will, in my own experience, offer solutions that are deprecated, wrong or hallucinated. They also have a tendency to get stuck in infinite loops of repeated wrong answers and wrong corrections. Even when they offer correct solutions, they may miss a far more elegant one, leaving you with one that is clunkier, less efficient or looks amateurish. Moreover, a solution to a given small problem may indeed work, but this way of solving it will still not teach you about the larger context of your problem, taking away a natural learning opportunity. AI chatbots may be useful for problems that are more basic or that are peripheral to your work, but are overall greatly overrated."
   ]
  },
  {
   "cell_type": "markdown",
   "id": "f9ee9fad-643c-4681-a58f-616767de2de5",
   "metadata": {},
   "source": [
    "# Debugging is Already Here <a id='#already'></a>\n",
    "The Python interpreter offers a lot of valuable information on its own. When it encounters a runtime error, it will print out a traceback of function calls, exception types and messages, also involving line numbers, module names and snippets of the source code. One should learn to read these 'reports' and recognize different kinds of errors as this information is often all that you need. Of course, the raising of an `IndexError` by a library of whose inner working you know little of may not be of use &ndash; here it is again advisable to read the documentation or, if need be, dig deeper. Many libraries and frameworks provide their own 'debug mode' that offers more verbose logging or diagnostic information.\n",
    "\n",
    "There also exist easily accessible debuggers, such as Python's standard debuggers (pdb and ipdb) or those provided by IDEs. These tools are very flexible and can provide many kinds of information, but this is paid for with greater difficulty of use. Additionaly, different debuggers have distinctive commands or interfaces and may be platform dependent as is the case of debuggers provided by IDEs. Still, these tools can be very valuable and one should learn to utilize them, even if they are not the best idea in all circumstances. In Jupyter notebooks, a debugger session can be initiated with the magic `%debug`."
   ]
  },
  {
   "cell_type": "markdown",
   "id": "9123a837-d1ad-4f9a-9eea-54cccf2ed8a5",
   "metadata": {},
   "source": [
    "# `print` Lines\n",
    "So-called `print` lines are somewhat infamous. They are inflexible and require manual writing of messages, insertions into code and later removal. This means that they can quickly inflate your code and its output to the point where it is difficult to read or interpret. Nevertheless, in some cases there is really no need to complicate. Python's f-strings are very helpful in this regard. Many people do not know that the f-string `f'{x=}'` is equivalent to `f'x={x}'`."
   ]
  },
  {
   "cell_type": "code",
   "execution_count": 2,
   "id": "60f194ab-8c15-44d5-8d0e-e317848a0dfa",
   "metadata": {},
   "outputs": [
    {
     "name": "stdout",
     "output_type": "stream",
     "text": [
      "x=4, x/y = 2.0\n"
     ]
    }
   ],
   "source": [
    "x, y = 4, 2\n",
    "print(f'{x=}, {x/y = }')"
   ]
  },
  {
   "cell_type": "markdown",
   "id": "d74575b7-7e41-447e-8837-fda95c386df4",
   "metadata": {},
   "source": [
    "# `assert` Statements\n",
    "The `assert` keyword will check a given condition and raise `AssertionError` in the case it is false. An additional message may be provided for debugging purposes. The exception will be raised and the message printed conditionally, making them less versatile but more concise, while also having the ability to stop execution. Also, note that passing the optimizing `-O` flag to the interpreter will make it ignore assert statements."
   ]
  },
  {
   "cell_type": "code",
   "execution_count": 3,
   "id": "86497c38-e804-4ea8-b3de-ea0132f3deee",
   "metadata": {},
   "outputs": [
    {
     "ename": "AssertionError",
     "evalue": "Invalid inputs to compounded_ror: [1.1] (must be percentages between 0 and 1)",
     "output_type": "error",
     "traceback": [
      "\u001b[0;31m---------------------------------------------------------------------------\u001b[0m",
      "\u001b[0;31mAssertionError\u001b[0m                            Traceback (most recent call last)",
      "Cell \u001b[0;32mIn[3], line 9\u001b[0m\n\u001b[1;32m      7\u001b[0m \u001b[38;5;66;03m# check that inputs are valid before calling function\u001b[39;00m\n\u001b[1;32m      8\u001b[0m array \u001b[38;5;241m=\u001b[39m np\u001b[38;5;241m.\u001b[39marray([\u001b[38;5;241m0.04\u001b[39m, \u001b[38;5;241m0.045\u001b[39m, \u001b[38;5;241m1.1\u001b[39m])\n\u001b[0;32m----> 9\u001b[0m \u001b[38;5;28;01massert\u001b[39;00m np\u001b[38;5;241m.\u001b[39mall((array \u001b[38;5;241m>\u001b[39m\u001b[38;5;241m=\u001b[39m \u001b[38;5;241m0\u001b[39m) \u001b[38;5;241m&\u001b[39m (array \u001b[38;5;241m<\u001b[39m\u001b[38;5;241m=\u001b[39m \u001b[38;5;241m1\u001b[39m)), \u001b[38;5;124mf\u001b[39m\u001b[38;5;124m'\u001b[39m\u001b[38;5;124mInvalid inputs to compounded_ror: \u001b[39m\u001b[38;5;132;01m{\u001b[39;00marray[(array\u001b[38;5;250m \u001b[39m\u001b[38;5;241m<\u001b[39m\u001b[38;5;250m \u001b[39m\u001b[38;5;241m0\u001b[39m)\u001b[38;5;250m \u001b[39m\u001b[38;5;241m|\u001b[39m\u001b[38;5;250m \u001b[39m(array\u001b[38;5;250m \u001b[39m\u001b[38;5;241m>\u001b[39m\u001b[38;5;250m \u001b[39m\u001b[38;5;241m1\u001b[39m)]\u001b[38;5;132;01m}\u001b[39;00m\u001b[38;5;124m (must be percentages between 0 and 1)\u001b[39m\u001b[38;5;124m'\u001b[39m\n\u001b[1;32m     10\u001b[0m compounded_ror(array)\n",
      "\u001b[0;31mAssertionError\u001b[0m: Invalid inputs to compounded_ror: [1.1] (must be percentages between 0 and 1)"
     ]
    }
   ],
   "source": [
    "import numpy as np\n",
    "\n",
    "# calculate compounded rate of return from percentages\n",
    "def compounded_ror(array):\n",
    "    return (1+array).prod(axis=array.ndim-1)-1\n",
    "\n",
    "# check that inputs are valid before calling function\n",
    "array = np.array([0.04, 0.045, 1.1])\n",
    "assert np.all((array >= 0) & (array <= 1)), f'Invalid inputs to compounded_ror: {array[(array < 0) | (array > 1)]} (must be percentages between 0 and 1)'\n",
    "compounded_ror(array)"
   ]
  },
  {
   "cell_type": "markdown",
   "id": "c7ab4a5a-0e41-4447-b052-70896482dda9",
   "metadata": {},
   "source": [
    "# Logging\n",
    "Logging can achieved done with the `logging` module of Python's standard library ([docs](https://docs.python.org/3/library/logging.html)). Logging is a welcome part of most projects and is not strictly tied to purposed of debugging. It is very flexible for the following reasons:\n",
    "- we can utilize many loggers (`logging.Logger` objects), each with its own 'rules'.\n",
    "- there are more and less verbose levels, starting with `DEBUG` followed by `INFO`, `WARNING`, `ERROR` and `CRITICAL`. This is a setting that can be easily changed depending on our needs, e.g. in a configuration file or via a command line argument. Additional (custom) levels may be introduced.\n",
    "- similarly, each logger may have a handler (`logging.Handler`, or rather a subclass such as `logging.StreamHandler` or `logging.FileHandler`) controlling the output (e.g. to the console, to a file, to a network socket, or conditional output depending on size). Handlers also have formatters and filters (discussed in a moment). Multiple handlers may be used for the same logger, making each do its own work. A handler may easily be replaced with a different one depending on our current needs.\n",
    "- a formatter will choose the format and contents of a message. The logging module's LogRecords by themselves contain a lot of useful information like function names, line numbers, timestamps, etc. The format itself can vary, from separators to organizations into lines or text coloring.\n",
    "- a filter will filter out records to be logged based on some criteria. We already mentioned the logging levels.\n",
    "- additional subclasses of the base classes `logging.Handler`, `logging.Formatter` and `logging.Filter` may be introduced in simple ways.\n",
    "\n",
    "Many loggers can be organized in a hierarchy. The command `logging.log(...)` is referring to the root logger, while `logging.getLogger()` creates a child of the root logger. More can be found in the documentation."
   ]
  },
  {
   "cell_type": "code",
   "execution_count": 4,
   "id": "65b987e5-b7b6-41da-9c79-2b76d3d2987d",
   "metadata": {},
   "outputs": [],
   "source": [
    "import logging\n",
    "import sys\n",
    "\n",
    "from importlib import reload\n",
    "reload(logging)\n",
    "\"\"\"\n",
    "importrant for jupyter: otherwiser we would add a handler\n",
    "everytime this cell is executed, resulting in\n",
    "repeated outputs\n",
    "\"\"\"\n",
    "\n",
    "logger = logging.getLogger('debug-logger')  # creating and naming a logger\n",
    "logger.setLevel(logging.DEBUG)  # show all logs\n",
    "\n",
    "stdout_handler = logging.StreamHandler(sys.stdout)  # log to stdout\n",
    "\n",
    "class ColoringFormatter(logging.Formatter):  # our custom formatter\n",
    "    colors = {\n",
    "        'red': '\\033[91m',\n",
    "        'green': '\\033[92m',\n",
    "        'yellow': '\\033[93m',\n",
    "        'blue': '\\033[94m',\n",
    "        'reset': '\\033[0m',\n",
    "    }\n",
    "\n",
    "    def format(self, record):  # overriding base class' method\n",
    "        timestamp = self.formatTime(record, '%H:%M:%S')\n",
    "        lineno = record.lineno\n",
    "        funcname = record.funcName\n",
    "        message = record.getMessage()\n",
    "        level = record.levelname\n",
    "\n",
    "        return f\"{self.colors['red']}{timestamp}{self.colors['reset']}-\"\\\n",
    "        f\"{self.colors['red']}{level}{self.colors['reset']}-\"\\\n",
    "        f\"{self.colors['green']}at line {lineno}{self.colors['reset']}-\"\\\n",
    "        f\"{self.colors['yellow']}in func {funcname}{self.colors['reset']}-\"\\\n",
    "        f\"{self.colors['blue']}{message}{self.colors['reset']}\"\n",
    "        # alternatively, we could have chosen the color\n",
    "        # based on the logging level\n",
    "\n",
    "# simpler\n",
    "# formatter = logging.Formatter('%(asctime)s - %(levelname)s - %(filename)s:%(lineno)d - %(funcName)s - %(message)s')\n",
    "\n",
    "stdout_handler.setFormatter(ColoringFormatter())  # adding formatter to handler\n",
    "logger.addHandler(stdout_handler)  # adding handler to logger"
   ]
  },
  {
   "cell_type": "code",
   "execution_count": 5,
   "id": "0c2b5562-2e72-4e88-8443-c375c4627fc7",
   "metadata": {},
   "outputs": [
    {
     "name": "stdout",
     "output_type": "stream",
     "text": [
      "\u001b[91m23:28:58\u001b[0m-\u001b[91mDEBUG\u001b[0m-\u001b[92mat line 6\u001b[0m-\u001b[93min func compound_ror\u001b[0m-\u001b[94mEntering with array=array([0.04 , 0.044, 0.033])\u001b[0m\n",
      "\u001b[91m23:28:58\u001b[0m-\u001b[91mDEBUG\u001b[0m-\u001b[92mat line 2\u001b[0m-\u001b[93min func check_condition\u001b[0m-\u001b[94mEntering\u001b[0m\n",
      "0.12159008000000004\n",
      "\u001b[91m23:28:58\u001b[0m-\u001b[91mDEBUG\u001b[0m-\u001b[92mat line 6\u001b[0m-\u001b[93min func compound_ror\u001b[0m-\u001b[94mEntering with array=array([0.6 , 0.88, 1.1 ])\u001b[0m\n",
      "\u001b[91m23:28:58\u001b[0m-\u001b[91mDEBUG\u001b[0m-\u001b[92mat line 2\u001b[0m-\u001b[93min func check_condition\u001b[0m-\u001b[94mEntering\u001b[0m\n",
      "\u001b[91m23:28:58\u001b[0m-\u001b[91mERROR\u001b[0m-\u001b[92mat line 19\u001b[0m-\u001b[93min func <module>\u001b[0m-\u001b[94mCaught ValueError\u001b[0m\n"
     ]
    }
   ],
   "source": [
    "def check_condition(array):\n",
    "    logger.debug('Entering')\n",
    "    return np.all((array >= 0) & (array <=1), axis=array.ndim-1)\n",
    "\n",
    "def compound_ror(array):\n",
    "    logger.debug(f'Entering with {array=}')\n",
    "    if not check_condition(array):\n",
    "        raise ValueError('The inputs must be percentages between 0 and 1')\n",
    "\n",
    "    return np.prod(array+1, axis=array.ndim-1)-1\n",
    "\n",
    "arr1 = np.array([0.04, 0.044, 0.033])\n",
    "arr2 = np.array([0.6, 0.88, 1.1])\n",
    "\n",
    "for arr in [arr1, arr2]:\n",
    "    try:\n",
    "        print(compound_ror(arr))\n",
    "    except ValueError:\n",
    "        logger.error('Caught ValueError')"
   ]
  },
  {
   "cell_type": "markdown",
   "id": "baae7d09-46af-4819-ad70-f88185760e09",
   "metadata": {},
   "source": [
    "Note that this is an example &ndash; logging should always be concise and informative, as opposed to cluttering the output."
   ]
  },
  {
   "cell_type": "markdown",
   "id": "4334e143-d9f9-43de-970b-9eb9942c4b86",
   "metadata": {},
   "source": [
    "# Wrappers\n",
    "The `inspect` module ([docs](https://docs.python.org/3/library/inspect.html)) enables us to capture varied information about live objects, expanding on functions like `help` or `vars` and `dir`. These objects range from modules to functions and the information includes things like names and line numbers (of definition) but also source code. Again, this module's purpose is not restricted to debugging, though it can be useful there as well.\n",
    "\n",
    "Debugging can also be achieved with dedicated debugging wrappers. Wrappers are powerful because:\n",
    "- any debugging logic can be encapsulated and used across various functions and even modules\n",
    "- wrappers can be very simply added, removed or replaced by use of decorators\n",
    "\n",
    "A simple wrapper could just log calls to functions and the respective arguments, while a more complex one could execute the function line by line, providing information about all changes. Keeping such more powerful wrappers flexible enough to be function-agnostic will also require more effort. Such a wrapper should take care of initializing local variables, variations in possible syntax, and be careful with in-place operations (executing the code of such a function twice may produce unwanted effects).\n",
    "\n",
    "The example that follows uses `inspect` to fetch the source code of a function, enabling us to write a wrapper that will, after each line, print out the values of local variables. This wrapper is still simple as it cannot handle indentation (`exec` has to execute if-blocks, for-blocks and similar as a single command). It also does not handle (possibly) positional arguments with default values. This can still be improved with more complex parsing. The standard module `ast` can be helpful for that purpose."
   ]
  },
  {
   "cell_type": "code",
   "execution_count": 6,
   "id": "2a376fdf-d114-4a20-bae9-36dde0b854f9",
   "metadata": {},
   "outputs": [],
   "source": [
    "import inspect\n",
    "\n",
    "class DebugWrapper:\n",
    "    def __init__(self, func):\n",
    "        self.func = func\n",
    "\n",
    "    def __call__(self, *args, **kwargs):\n",
    "        func = self.func\n",
    "        logger.debug(f'Entering function {func.__name__} with {args=} and {kwargs=}')\n",
    "        \n",
    "        iargs = iter(args)\n",
    "        ikwargs = iter(kwargs)\n",
    "    \n",
    "        source_lines, _ = inspect.getsourcelines(func)\n",
    "    \n",
    "        for i, line in enumerate(source_lines):\n",
    "            if line.startswith('@'):  # skip decorators\n",
    "                continue\n",
    "    \n",
    "            if line.startswith('def'):  # parsing the signature\n",
    "                line = line[\n",
    "                    line.find('(')+1:\n",
    "                    line.find(')')\n",
    "                ]\n",
    "    \n",
    "                elements = line.split(',')\n",
    "                for element in elements:\n",
    "                    if '=' in element:  # has default value\n",
    "                        exec(element.strip(), func.__globals__, locals())\n",
    "                    else:\n",
    "                        exec(f'{element.strip()}={next(iargs)}', func.__globals__, locals())\n",
    "    \n",
    "                for kwarg, value in kwargs.items():\n",
    "                    exec(f'{kwarg}=value', func.__globals__, locals())\n",
    "                \n",
    "                del iargs\n",
    "                del ikwargs\n",
    "                del elements\n",
    "                continue\n",
    "\n",
    "            line = line.strip()\n",
    "            if 'return' not in line:\n",
    "                exec(line, func.__globals__, locals())\n",
    "    \n",
    "                local_vars = {}\n",
    "                for key, value in locals().items():\n",
    "                    if (not key in ['args', 'kwargs', 'source_lines', 'remove_indent', 'def_flag', 'local_vars', 'line', 'value', 'key', 'element', '_', 'func', 'kwarg', 'self', 'i']):\n",
    "                        local_vars[key] = value\n",
    "                logger.debug(f'Executing line {i}...{local_vars=}')\n",
    "    \n",
    "            else:\n",
    "                expr = line.split('return')[1]\n",
    "                value = eval(expr)\n",
    "                logger.debug(f'Exiting function {func.__name__} with value {expr}={value}')\n",
    "                return value\n",
    "                \n",
    "        logger.debug(f'Exiting function {func.__name__}')\n",
    "        return None"
   ]
  },
  {
   "cell_type": "markdown",
   "id": "c6ae2fbf-8dca-4e68-aec8-7ae9b5099785",
   "metadata": {},
   "source": [
    "For now, let us test the wrapper on a simple function."
   ]
  },
  {
   "cell_type": "code",
   "execution_count": 7,
   "id": "f1947a38-b1a8-4bc7-b705-9e78064bc023",
   "metadata": {},
   "outputs": [
    {
     "name": "stdout",
     "output_type": "stream",
     "text": [
      "\u001b[91m23:28:59\u001b[0m-\u001b[91mDEBUG\u001b[0m-\u001b[92mat line 9\u001b[0m-\u001b[93min func __call__\u001b[0m-\u001b[94mEntering function simple_function with args=(3, 4) and kwargs={}\u001b[0m\n",
      "\u001b[91m23:28:59\u001b[0m-\u001b[91mDEBUG\u001b[0m-\u001b[92mat line 49\u001b[0m-\u001b[93min func __call__\u001b[0m-\u001b[94mExecuting line 2...local_vars={'a': 3, 'b': 4, 'c': 5, 'd': 7}\u001b[0m\n",
      "\u001b[91m23:28:59\u001b[0m-\u001b[91mDEBUG\u001b[0m-\u001b[92mat line 49\u001b[0m-\u001b[93min func __call__\u001b[0m-\u001b[94mExecuting line 3...local_vars={'a': 3, 'b': 4, 'c': 5, 'd': 7, 'e': 35}\u001b[0m\n",
      "\u001b[91m23:28:59\u001b[0m-\u001b[91mDEBUG\u001b[0m-\u001b[92mat line 49\u001b[0m-\u001b[93min func __call__\u001b[0m-\u001b[94mExecuting line 4...local_vars={'a': 3, 'b': 4, 'c': 5, 'd': 7, 'e': 35, 'f': 1225}\u001b[0m\n",
      "\u001b[91m23:28:59\u001b[0m-\u001b[91mDEBUG\u001b[0m-\u001b[92mat line 54\u001b[0m-\u001b[93min func __call__\u001b[0m-\u001b[94mExiting function simple_function with value  f=1225\u001b[0m\n",
      "\u001b[91m23:28:59\u001b[0m-\u001b[91mDEBUG\u001b[0m-\u001b[92mat line 9\u001b[0m-\u001b[93min func __call__\u001b[0m-\u001b[94mEntering function simple_function with args=(1, 3) and kwargs={'c': 9}\u001b[0m\n",
      "\u001b[91m23:28:59\u001b[0m-\u001b[91mDEBUG\u001b[0m-\u001b[92mat line 49\u001b[0m-\u001b[93min func __call__\u001b[0m-\u001b[94mExecuting line 2...local_vars={'a': 1, 'b': 3, 'c': 9, 'd': 4}\u001b[0m\n",
      "\u001b[91m23:28:59\u001b[0m-\u001b[91mDEBUG\u001b[0m-\u001b[92mat line 49\u001b[0m-\u001b[93min func __call__\u001b[0m-\u001b[94mExecuting line 3...local_vars={'a': 1, 'b': 3, 'c': 9, 'd': 4, 'e': 36}\u001b[0m\n",
      "\u001b[91m23:28:59\u001b[0m-\u001b[91mDEBUG\u001b[0m-\u001b[92mat line 49\u001b[0m-\u001b[93min func __call__\u001b[0m-\u001b[94mExecuting line 4...local_vars={'a': 1, 'b': 3, 'c': 9, 'd': 4, 'e': 36, 'f': 1296}\u001b[0m\n",
      "\u001b[91m23:28:59\u001b[0m-\u001b[91mDEBUG\u001b[0m-\u001b[92mat line 54\u001b[0m-\u001b[93min func __call__\u001b[0m-\u001b[94mExiting function simple_function with value  f=1296\u001b[0m\n"
     ]
    },
    {
     "data": {
      "text/plain": [
       "1296"
      ]
     },
     "execution_count": 7,
     "metadata": {},
     "output_type": "execute_result"
    }
   ],
   "source": [
    "@DebugWrapper\n",
    "def simple_function(a, b, c=5):\n",
    "    d = a+b\n",
    "    e = d*c\n",
    "    f = e ** 2\n",
    "    return f\n",
    "\n",
    "simple_function(3, 4)\n",
    "simple_function(1, 3, c=9)"
   ]
  },
  {
   "cell_type": "markdown",
   "id": "18d8fd9f-ff3c-40fa-ac71-ba642adb0da3",
   "metadata": {},
   "source": [
    "# Metaclasses\n",
    "Metaclasses are classes that manage the basic behaviour of other classes, such as creating new instances or defining shared methods (e.g. `__init__` or `__setattr__`). In Python the default metaclass is `type`. Since implementing all of its functionalities anew would be quite difficult, we instead inherit from `type` and let `super()` do the rest. Metaclasses are rarely needed, but debugging is one example where they may be useful. For example, we can log creation of instances or changes in attribute values while leaving the actual logic untouched. We do this in the example below by overriding `type`'s method `__call__`  and adding to classes a custom `__setattr__`. Note that we add this to the `dct`, a dictionary common to all instances of a class using this metaclass. In other words, classes can be thought of as instances of their metaclass. This is why `__new__` defines a class itself, not an instance. Logging in `__new__` would only print messages once the `class Account(metaclass=DebugType):` block is executed. For instance creation, we need the method `__call__`."
   ]
  },
  {
   "cell_type": "code",
   "execution_count": 39,
   "id": "ed527876-5c83-4c9b-83b3-be8ef6781e7b",
   "metadata": {},
   "outputs": [],
   "source": [
    "class DebugType(type):\n",
    "    logger = logger\n",
    "    \n",
    "    def __new__(cls, name, bases, dct):\n",
    "        dct['__setattr__'] = cls._debug_setattr\n",
    "        return super().__new__(cls, name, bases, dct)\n",
    "        \n",
    "    def __call__(cls, *args, **kwargs):\n",
    "        instance = super().__call__(*args, **kwargs)\n",
    "        cls.logger.debug(f'Instance of class {cls.__name__} created with {args=} and {kwargs=}')\n",
    "        return instance\n",
    "\n",
    "    @staticmethod\n",
    "    def _debug_setattr(instance, name, value):\n",
    "        cls = instance.__class__\n",
    "        current_value = None\n",
    "        try:\n",
    "            current_value = getattr(instance, name)\n",
    "        except AttributeError:\n",
    "            pass\n",
    "        cls.logger.debug(f'{cls.__name__}: chaning {name} from {current_value} to {value}')\n",
    "        super(type(instance), instance).__setattr__(name, value)"
   ]
  },
  {
   "cell_type": "markdown",
   "id": "ca5eaa01-2559-4aae-a197-1d484e924942",
   "metadata": {},
   "source": [
    "In this context the strengths of metaclasses are similar to those of wrappers we discussed earlier. They can be very general (class-agnostic), flexible and are easily added, removed or replaced. One difference is that they are, not surprisingly, more class oriented, whereas wrappers could wrap (decorate) any function. We can receive their benefits only with classes that we ourselves defined. For classes defined elsewhere, we may still create a child class using our alternative metaclass, but the tinkering required runs contrary to the aforementioned strengths. Inheriting from built-in classes like `list` can get even more complicated as it requires knowledge of its inner workings. For example, `list` does not use `__setattr__` but rather `__setitem__`, which is behind commands like `L[1] = 2`."
   ]
  },
  {
   "cell_type": "code",
   "execution_count": 40,
   "id": "97e2d593-06a6-416e-bd27-58d624148591",
   "metadata": {},
   "outputs": [],
   "source": [
    "class Account(metaclass=DebugType):\n",
    "    def __init__(self, name=None, amount=0):\n",
    "        self.name = name\n",
    "        self.amount = amount\n",
    "\n",
    "    def withdraw(self, amount):\n",
    "        self.amount -= amount\n",
    "\n",
    "    def transfer(self, other, amount):\n",
    "        self.withdraw(amount)\n",
    "        other.withdraw(-amount)"
   ]
  },
  {
   "cell_type": "code",
   "execution_count": 41,
   "id": "b70950b8-50a9-4845-a297-2d08e8260573",
   "metadata": {},
   "outputs": [
    {
     "name": "stdout",
     "output_type": "stream",
     "text": [
      "\u001b[91m00:00:58\u001b[0m-\u001b[91mDEBUG\u001b[0m-\u001b[92mat line 21\u001b[0m-\u001b[93min func _debug_setattr\u001b[0m-\u001b[94mAccount: chaning name from None to John\u001b[0m\n",
      "\u001b[91m00:00:58\u001b[0m-\u001b[91mDEBUG\u001b[0m-\u001b[92mat line 21\u001b[0m-\u001b[93min func _debug_setattr\u001b[0m-\u001b[94mAccount: chaning amount from None to 230.7\u001b[0m\n",
      "\u001b[91m00:00:58\u001b[0m-\u001b[91mDEBUG\u001b[0m-\u001b[92mat line 10\u001b[0m-\u001b[93min func __call__\u001b[0m-\u001b[94mInstance of class Account created with args=('John', 230.7) and kwargs={}\u001b[0m\n",
      "\u001b[91m00:00:58\u001b[0m-\u001b[91mDEBUG\u001b[0m-\u001b[92mat line 21\u001b[0m-\u001b[93min func _debug_setattr\u001b[0m-\u001b[94mAccount: chaning name from None to Jane\u001b[0m\n",
      "\u001b[91m00:00:58\u001b[0m-\u001b[91mDEBUG\u001b[0m-\u001b[92mat line 21\u001b[0m-\u001b[93min func _debug_setattr\u001b[0m-\u001b[94mAccount: chaning amount from None to 450.0\u001b[0m\n",
      "\u001b[91m00:00:58\u001b[0m-\u001b[91mDEBUG\u001b[0m-\u001b[92mat line 10\u001b[0m-\u001b[93min func __call__\u001b[0m-\u001b[94mInstance of class Account created with args=('Jane', 450.0) and kwargs={}\u001b[0m\n"
     ]
    }
   ],
   "source": [
    "john_acc = Account('John', 230.70)\n",
    "jane_acc = Account('Jane', 450.00)"
   ]
  },
  {
   "cell_type": "code",
   "execution_count": 42,
   "id": "9c7ecb50-8083-412b-bc85-60784eb390d3",
   "metadata": {},
   "outputs": [
    {
     "name": "stdout",
     "output_type": "stream",
     "text": [
      "\u001b[91m00:00:58\u001b[0m-\u001b[91mDEBUG\u001b[0m-\u001b[92mat line 21\u001b[0m-\u001b[93min func _debug_setattr\u001b[0m-\u001b[94mAccount: chaning amount from 230.7 to 180.7\u001b[0m\n",
      "\u001b[91m00:00:58\u001b[0m-\u001b[91mDEBUG\u001b[0m-\u001b[92mat line 21\u001b[0m-\u001b[93min func _debug_setattr\u001b[0m-\u001b[94mAccount: chaning amount from 450.0 to 500.0\u001b[0m\n"
     ]
    }
   ],
   "source": [
    "john_acc.transfer(jane_acc, 50)"
   ]
  }
 ],
 "metadata": {
  "kernelspec": {
   "display_name": "Conda Base Environment",
   "language": "python",
   "name": "conda-base"
  },
  "language_info": {
   "codemirror_mode": {
    "name": "ipython",
    "version": 3
   },
   "file_extension": ".py",
   "mimetype": "text/x-python",
   "name": "python",
   "nbconvert_exporter": "python",
   "pygments_lexer": "ipython3",
   "version": "3.11.5"
  }
 },
 "nbformat": 4,
 "nbformat_minor": 5
}
